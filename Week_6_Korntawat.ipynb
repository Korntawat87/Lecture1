{
  "cells": [
    {
      "cell_type": "markdown",
      "metadata": {
        "id": "7ywSRtNI4s5h"
      },
      "source": [
        "# 1.) Preprocess your data into scaled input variables and an output variable\n"
      ]
    },
    {
      "cell_type": "code",
      "execution_count": 2,
      "metadata": {
        "id": "nsG1QV154GYZ"
      },
      "outputs": [],
      "source": [
        "import pandas as pd\n",
        "import matplotlib.pyplot as plt\n",
        "from google.colab import drive\n",
        "import numpy as np\n",
        "import datetime"
      ]
    },
    {
      "cell_type": "code",
      "source": [
        "drive.mount('/content/gdrive/', force_remount = True)"
      ],
      "metadata": {
        "colab": {
          "base_uri": "https://localhost:8080/"
        },
        "id": "3bCHIl6h6Oak",
        "outputId": "e48fb22f-a2d3-4d1e-bcfb-de122137c4e7"
      },
      "execution_count": 3,
      "outputs": [
        {
          "output_type": "stream",
          "name": "stdout",
          "text": [
            "Mounted at /content/gdrive/\n"
          ]
        }
      ]
    },
    {
      "cell_type": "code",
      "source": [
        "df = pd.read_csv(\"/content/gdrive/MyDrive/Econ441B/CLV.csv\")"
      ],
      "metadata": {
        "id": "-WpK_Isa6Woo"
      },
      "execution_count": 4,
      "outputs": []
    },
    {
      "cell_type": "code",
      "execution_count": 5,
      "metadata": {
        "id": "Q7XmCWs_rULl",
        "colab": {
          "base_uri": "https://localhost:8080/",
          "height": 534
        },
        "outputId": "49078508-2101-46c6-d6f0-6efe44796374"
      },
      "outputs": [
        {
          "output_type": "execute_result",
          "data": {
            "text/plain": [
              "      Unnamed: 0  Customer Lifetime Value  Income  Number of Policies  \\\n",
              "0              0              2763.519279   56274                   1   \n",
              "1              1              6979.535903       0                   8   \n",
              "2              2             12887.431650   48767                   2   \n",
              "3              3              7645.861827       0                   7   \n",
              "4              4              2813.692575   43836                   1   \n",
              "...          ...                      ...     ...                 ...   \n",
              "9129        9129             23405.987980   71941                   2   \n",
              "9130        9130              3096.511217   21604                   1   \n",
              "9131        9131              8163.890428       0                   2   \n",
              "9132        9132              7524.442436   21941                   3   \n",
              "9133        9133              2611.836866       0                   1   \n",
              "\n",
              "      Total Claim Amount  Months Since Last Claim  Vehicle Size_Large  \\\n",
              "0             384.811147                       32                   0   \n",
              "1            1131.464935                       13                   0   \n",
              "2             566.472247                       18                   0   \n",
              "3             529.881344                       18                   0   \n",
              "4             138.130879                       12                   0   \n",
              "...                  ...                      ...                 ...   \n",
              "9129          198.234764                       18                   0   \n",
              "9130          379.200000                       14                   0   \n",
              "9131          790.784983                        9                   0   \n",
              "9132          691.200000                       34                   1   \n",
              "9133          369.600000                        3                   0   \n",
              "\n",
              "      Vehicle Size_Medsize  Gender_M  EmploymentStatus_Employed  \\\n",
              "0                        1         0                          1   \n",
              "1                        1         0                          0   \n",
              "2                        1         0                          1   \n",
              "3                        1         1                          0   \n",
              "4                        1         1                          1   \n",
              "...                    ...       ...                        ...   \n",
              "9129                     1         1                          1   \n",
              "9130                     1         0                          1   \n",
              "9131                     1         1                          0   \n",
              "9132                     0         1                          1   \n",
              "9133                     1         1                          0   \n",
              "\n",
              "      EmploymentStatus_Medical Leave  EmploymentStatus_Retired  \\\n",
              "0                                  0                         0   \n",
              "1                                  0                         0   \n",
              "2                                  0                         0   \n",
              "3                                  0                         0   \n",
              "4                                  0                         0   \n",
              "...                              ...                       ...   \n",
              "9129                               0                         0   \n",
              "9130                               0                         0   \n",
              "9131                               0                         0   \n",
              "9132                               0                         0   \n",
              "9133                               0                         0   \n",
              "\n",
              "      EmploymentStatus_Unemployed  Policy Type_Corporate Auto  \\\n",
              "0                               0                           1   \n",
              "1                               1                           0   \n",
              "2                               0                           0   \n",
              "3                               1                           1   \n",
              "4                               0                           0   \n",
              "...                           ...                         ...   \n",
              "9129                            0                           0   \n",
              "9130                            0                           1   \n",
              "9131                            1                           1   \n",
              "9132                            0                           0   \n",
              "9133                            1                           1   \n",
              "\n",
              "      Policy Type_Personal Auto  Marital Status_Divorced  \\\n",
              "0                             0                        0   \n",
              "1                             1                        0   \n",
              "2                             1                        0   \n",
              "3                             0                        0   \n",
              "4                             1                        0   \n",
              "...                         ...                      ...   \n",
              "9129                          1                        0   \n",
              "9130                          0                        1   \n",
              "9131                          0                        0   \n",
              "9132                          1                        0   \n",
              "9133                          0                        0   \n",
              "\n",
              "      Marital Status_Married  Marital Status_Single  \n",
              "0                          1                      0  \n",
              "1                          0                      1  \n",
              "2                          1                      0  \n",
              "3                          1                      0  \n",
              "4                          0                      1  \n",
              "...                      ...                    ...  \n",
              "9129                       1                      0  \n",
              "9130                       0                      0  \n",
              "9131                       0                      1  \n",
              "9132                       1                      0  \n",
              "9133                       0                      1  \n",
              "\n",
              "[9134 rows x 18 columns]"
            ],
            "text/html": [
              "\n",
              "  <div id=\"df-c0f8ee57-b73d-4fee-b8d2-0123d12f6987\">\n",
              "    <div class=\"colab-df-container\">\n",
              "      <div>\n",
              "<style scoped>\n",
              "    .dataframe tbody tr th:only-of-type {\n",
              "        vertical-align: middle;\n",
              "    }\n",
              "\n",
              "    .dataframe tbody tr th {\n",
              "        vertical-align: top;\n",
              "    }\n",
              "\n",
              "    .dataframe thead th {\n",
              "        text-align: right;\n",
              "    }\n",
              "</style>\n",
              "<table border=\"1\" class=\"dataframe\">\n",
              "  <thead>\n",
              "    <tr style=\"text-align: right;\">\n",
              "      <th></th>\n",
              "      <th>Unnamed: 0</th>\n",
              "      <th>Customer Lifetime Value</th>\n",
              "      <th>Income</th>\n",
              "      <th>Number of Policies</th>\n",
              "      <th>Total Claim Amount</th>\n",
              "      <th>Months Since Last Claim</th>\n",
              "      <th>Vehicle Size_Large</th>\n",
              "      <th>Vehicle Size_Medsize</th>\n",
              "      <th>Gender_M</th>\n",
              "      <th>EmploymentStatus_Employed</th>\n",
              "      <th>EmploymentStatus_Medical Leave</th>\n",
              "      <th>EmploymentStatus_Retired</th>\n",
              "      <th>EmploymentStatus_Unemployed</th>\n",
              "      <th>Policy Type_Corporate Auto</th>\n",
              "      <th>Policy Type_Personal Auto</th>\n",
              "      <th>Marital Status_Divorced</th>\n",
              "      <th>Marital Status_Married</th>\n",
              "      <th>Marital Status_Single</th>\n",
              "    </tr>\n",
              "  </thead>\n",
              "  <tbody>\n",
              "    <tr>\n",
              "      <th>0</th>\n",
              "      <td>0</td>\n",
              "      <td>2763.519279</td>\n",
              "      <td>56274</td>\n",
              "      <td>1</td>\n",
              "      <td>384.811147</td>\n",
              "      <td>32</td>\n",
              "      <td>0</td>\n",
              "      <td>1</td>\n",
              "      <td>0</td>\n",
              "      <td>1</td>\n",
              "      <td>0</td>\n",
              "      <td>0</td>\n",
              "      <td>0</td>\n",
              "      <td>1</td>\n",
              "      <td>0</td>\n",
              "      <td>0</td>\n",
              "      <td>1</td>\n",
              "      <td>0</td>\n",
              "    </tr>\n",
              "    <tr>\n",
              "      <th>1</th>\n",
              "      <td>1</td>\n",
              "      <td>6979.535903</td>\n",
              "      <td>0</td>\n",
              "      <td>8</td>\n",
              "      <td>1131.464935</td>\n",
              "      <td>13</td>\n",
              "      <td>0</td>\n",
              "      <td>1</td>\n",
              "      <td>0</td>\n",
              "      <td>0</td>\n",
              "      <td>0</td>\n",
              "      <td>0</td>\n",
              "      <td>1</td>\n",
              "      <td>0</td>\n",
              "      <td>1</td>\n",
              "      <td>0</td>\n",
              "      <td>0</td>\n",
              "      <td>1</td>\n",
              "    </tr>\n",
              "    <tr>\n",
              "      <th>2</th>\n",
              "      <td>2</td>\n",
              "      <td>12887.431650</td>\n",
              "      <td>48767</td>\n",
              "      <td>2</td>\n",
              "      <td>566.472247</td>\n",
              "      <td>18</td>\n",
              "      <td>0</td>\n",
              "      <td>1</td>\n",
              "      <td>0</td>\n",
              "      <td>1</td>\n",
              "      <td>0</td>\n",
              "      <td>0</td>\n",
              "      <td>0</td>\n",
              "      <td>0</td>\n",
              "      <td>1</td>\n",
              "      <td>0</td>\n",
              "      <td>1</td>\n",
              "      <td>0</td>\n",
              "    </tr>\n",
              "    <tr>\n",
              "      <th>3</th>\n",
              "      <td>3</td>\n",
              "      <td>7645.861827</td>\n",
              "      <td>0</td>\n",
              "      <td>7</td>\n",
              "      <td>529.881344</td>\n",
              "      <td>18</td>\n",
              "      <td>0</td>\n",
              "      <td>1</td>\n",
              "      <td>1</td>\n",
              "      <td>0</td>\n",
              "      <td>0</td>\n",
              "      <td>0</td>\n",
              "      <td>1</td>\n",
              "      <td>1</td>\n",
              "      <td>0</td>\n",
              "      <td>0</td>\n",
              "      <td>1</td>\n",
              "      <td>0</td>\n",
              "    </tr>\n",
              "    <tr>\n",
              "      <th>4</th>\n",
              "      <td>4</td>\n",
              "      <td>2813.692575</td>\n",
              "      <td>43836</td>\n",
              "      <td>1</td>\n",
              "      <td>138.130879</td>\n",
              "      <td>12</td>\n",
              "      <td>0</td>\n",
              "      <td>1</td>\n",
              "      <td>1</td>\n",
              "      <td>1</td>\n",
              "      <td>0</td>\n",
              "      <td>0</td>\n",
              "      <td>0</td>\n",
              "      <td>0</td>\n",
              "      <td>1</td>\n",
              "      <td>0</td>\n",
              "      <td>0</td>\n",
              "      <td>1</td>\n",
              "    </tr>\n",
              "    <tr>\n",
              "      <th>...</th>\n",
              "      <td>...</td>\n",
              "      <td>...</td>\n",
              "      <td>...</td>\n",
              "      <td>...</td>\n",
              "      <td>...</td>\n",
              "      <td>...</td>\n",
              "      <td>...</td>\n",
              "      <td>...</td>\n",
              "      <td>...</td>\n",
              "      <td>...</td>\n",
              "      <td>...</td>\n",
              "      <td>...</td>\n",
              "      <td>...</td>\n",
              "      <td>...</td>\n",
              "      <td>...</td>\n",
              "      <td>...</td>\n",
              "      <td>...</td>\n",
              "      <td>...</td>\n",
              "    </tr>\n",
              "    <tr>\n",
              "      <th>9129</th>\n",
              "      <td>9129</td>\n",
              "      <td>23405.987980</td>\n",
              "      <td>71941</td>\n",
              "      <td>2</td>\n",
              "      <td>198.234764</td>\n",
              "      <td>18</td>\n",
              "      <td>0</td>\n",
              "      <td>1</td>\n",
              "      <td>1</td>\n",
              "      <td>1</td>\n",
              "      <td>0</td>\n",
              "      <td>0</td>\n",
              "      <td>0</td>\n",
              "      <td>0</td>\n",
              "      <td>1</td>\n",
              "      <td>0</td>\n",
              "      <td>1</td>\n",
              "      <td>0</td>\n",
              "    </tr>\n",
              "    <tr>\n",
              "      <th>9130</th>\n",
              "      <td>9130</td>\n",
              "      <td>3096.511217</td>\n",
              "      <td>21604</td>\n",
              "      <td>1</td>\n",
              "      <td>379.200000</td>\n",
              "      <td>14</td>\n",
              "      <td>0</td>\n",
              "      <td>1</td>\n",
              "      <td>0</td>\n",
              "      <td>1</td>\n",
              "      <td>0</td>\n",
              "      <td>0</td>\n",
              "      <td>0</td>\n",
              "      <td>1</td>\n",
              "      <td>0</td>\n",
              "      <td>1</td>\n",
              "      <td>0</td>\n",
              "      <td>0</td>\n",
              "    </tr>\n",
              "    <tr>\n",
              "      <th>9131</th>\n",
              "      <td>9131</td>\n",
              "      <td>8163.890428</td>\n",
              "      <td>0</td>\n",
              "      <td>2</td>\n",
              "      <td>790.784983</td>\n",
              "      <td>9</td>\n",
              "      <td>0</td>\n",
              "      <td>1</td>\n",
              "      <td>1</td>\n",
              "      <td>0</td>\n",
              "      <td>0</td>\n",
              "      <td>0</td>\n",
              "      <td>1</td>\n",
              "      <td>1</td>\n",
              "      <td>0</td>\n",
              "      <td>0</td>\n",
              "      <td>0</td>\n",
              "      <td>1</td>\n",
              "    </tr>\n",
              "    <tr>\n",
              "      <th>9132</th>\n",
              "      <td>9132</td>\n",
              "      <td>7524.442436</td>\n",
              "      <td>21941</td>\n",
              "      <td>3</td>\n",
              "      <td>691.200000</td>\n",
              "      <td>34</td>\n",
              "      <td>1</td>\n",
              "      <td>0</td>\n",
              "      <td>1</td>\n",
              "      <td>1</td>\n",
              "      <td>0</td>\n",
              "      <td>0</td>\n",
              "      <td>0</td>\n",
              "      <td>0</td>\n",
              "      <td>1</td>\n",
              "      <td>0</td>\n",
              "      <td>1</td>\n",
              "      <td>0</td>\n",
              "    </tr>\n",
              "    <tr>\n",
              "      <th>9133</th>\n",
              "      <td>9133</td>\n",
              "      <td>2611.836866</td>\n",
              "      <td>0</td>\n",
              "      <td>1</td>\n",
              "      <td>369.600000</td>\n",
              "      <td>3</td>\n",
              "      <td>0</td>\n",
              "      <td>1</td>\n",
              "      <td>1</td>\n",
              "      <td>0</td>\n",
              "      <td>0</td>\n",
              "      <td>0</td>\n",
              "      <td>1</td>\n",
              "      <td>1</td>\n",
              "      <td>0</td>\n",
              "      <td>0</td>\n",
              "      <td>0</td>\n",
              "      <td>1</td>\n",
              "    </tr>\n",
              "  </tbody>\n",
              "</table>\n",
              "<p>9134 rows × 18 columns</p>\n",
              "</div>\n",
              "      <button class=\"colab-df-convert\" onclick=\"convertToInteractive('df-c0f8ee57-b73d-4fee-b8d2-0123d12f6987')\"\n",
              "              title=\"Convert this dataframe to an interactive table.\"\n",
              "              style=\"display:none;\">\n",
              "        \n",
              "  <svg xmlns=\"http://www.w3.org/2000/svg\" height=\"24px\"viewBox=\"0 0 24 24\"\n",
              "       width=\"24px\">\n",
              "    <path d=\"M0 0h24v24H0V0z\" fill=\"none\"/>\n",
              "    <path d=\"M18.56 5.44l.94 2.06.94-2.06 2.06-.94-2.06-.94-.94-2.06-.94 2.06-2.06.94zm-11 1L8.5 8.5l.94-2.06 2.06-.94-2.06-.94L8.5 2.5l-.94 2.06-2.06.94zm10 10l.94 2.06.94-2.06 2.06-.94-2.06-.94-.94-2.06-.94 2.06-2.06.94z\"/><path d=\"M17.41 7.96l-1.37-1.37c-.4-.4-.92-.59-1.43-.59-.52 0-1.04.2-1.43.59L10.3 9.45l-7.72 7.72c-.78.78-.78 2.05 0 2.83L4 21.41c.39.39.9.59 1.41.59.51 0 1.02-.2 1.41-.59l7.78-7.78 2.81-2.81c.8-.78.8-2.07 0-2.86zM5.41 20L4 18.59l7.72-7.72 1.47 1.35L5.41 20z\"/>\n",
              "  </svg>\n",
              "      </button>\n",
              "      \n",
              "  <style>\n",
              "    .colab-df-container {\n",
              "      display:flex;\n",
              "      flex-wrap:wrap;\n",
              "      gap: 12px;\n",
              "    }\n",
              "\n",
              "    .colab-df-convert {\n",
              "      background-color: #E8F0FE;\n",
              "      border: none;\n",
              "      border-radius: 50%;\n",
              "      cursor: pointer;\n",
              "      display: none;\n",
              "      fill: #1967D2;\n",
              "      height: 32px;\n",
              "      padding: 0 0 0 0;\n",
              "      width: 32px;\n",
              "    }\n",
              "\n",
              "    .colab-df-convert:hover {\n",
              "      background-color: #E2EBFA;\n",
              "      box-shadow: 0px 1px 2px rgba(60, 64, 67, 0.3), 0px 1px 3px 1px rgba(60, 64, 67, 0.15);\n",
              "      fill: #174EA6;\n",
              "    }\n",
              "\n",
              "    [theme=dark] .colab-df-convert {\n",
              "      background-color: #3B4455;\n",
              "      fill: #D2E3FC;\n",
              "    }\n",
              "\n",
              "    [theme=dark] .colab-df-convert:hover {\n",
              "      background-color: #434B5C;\n",
              "      box-shadow: 0px 1px 3px 1px rgba(0, 0, 0, 0.15);\n",
              "      filter: drop-shadow(0px 1px 2px rgba(0, 0, 0, 0.3));\n",
              "      fill: #FFFFFF;\n",
              "    }\n",
              "  </style>\n",
              "\n",
              "      <script>\n",
              "        const buttonEl =\n",
              "          document.querySelector('#df-c0f8ee57-b73d-4fee-b8d2-0123d12f6987 button.colab-df-convert');\n",
              "        buttonEl.style.display =\n",
              "          google.colab.kernel.accessAllowed ? 'block' : 'none';\n",
              "\n",
              "        async function convertToInteractive(key) {\n",
              "          const element = document.querySelector('#df-c0f8ee57-b73d-4fee-b8d2-0123d12f6987');\n",
              "          const dataTable =\n",
              "            await google.colab.kernel.invokeFunction('convertToInteractive',\n",
              "                                                     [key], {});\n",
              "          if (!dataTable) return;\n",
              "\n",
              "          const docLinkHtml = 'Like what you see? Visit the ' +\n",
              "            '<a target=\"_blank\" href=https://colab.research.google.com/notebooks/data_table.ipynb>data table notebook</a>'\n",
              "            + ' to learn more about interactive tables.';\n",
              "          element.innerHTML = '';\n",
              "          dataTable['output_type'] = 'display_data';\n",
              "          await google.colab.output.renderOutput(dataTable, element);\n",
              "          const docLink = document.createElement('div');\n",
              "          docLink.innerHTML = docLinkHtml;\n",
              "          element.appendChild(docLink);\n",
              "        }\n",
              "      </script>\n",
              "    </div>\n",
              "  </div>\n",
              "  "
            ]
          },
          "metadata": {},
          "execution_count": 5
        }
      ],
      "source": [
        "df"
      ]
    },
    {
      "cell_type": "code",
      "execution_count": 6,
      "metadata": {
        "id": "9hfSckvYW4NN"
      },
      "outputs": [],
      "source": [
        "X = df.drop([\"Unnamed: 0\",\"Customer Lifetime Value\"], axis =1 )\n",
        "y = df['Customer Lifetime Value']"
      ]
    },
    {
      "cell_type": "code",
      "execution_count": 7,
      "metadata": {
        "id": "5X3GlNZqyAfL"
      },
      "outputs": [],
      "source": [
        "from sklearn.model_selection import train_test_split\n",
        "X_train, X_test, y_train, y_test = train_test_split(X, y, test_size = .3)"
      ]
    },
    {
      "cell_type": "code",
      "execution_count": 8,
      "metadata": {
        "id": "BaX5ur0GyAh6"
      },
      "outputs": [],
      "source": [
        "from sklearn.preprocessing import StandardScaler"
      ]
    },
    {
      "cell_type": "code",
      "execution_count": 9,
      "metadata": {
        "id": "jWF7eEu9x2jH"
      },
      "outputs": [],
      "source": [
        "scaler = StandardScaler()\n",
        "X_train = scaler.fit_transform(X_train)\n",
        "X_test = scaler.transform(X_test)"
      ]
    },
    {
      "cell_type": "markdown",
      "metadata": {
        "id": "OacsID8kTRvk"
      },
      "source": [
        "# 2.) Run a GridSearch CV on at least 10 possible combinations of hyper parameters "
      ]
    },
    {
      "cell_type": "code",
      "execution_count": 10,
      "metadata": {
        "id": "HGRyvMUHicYL"
      },
      "outputs": [],
      "source": [
        "from sklearn.neural_network import MLPRegressor\n",
        "from sklearn.model_selection import GridSearchCV"
      ]
    },
    {
      "cell_type": "code",
      "execution_count": 11,
      "metadata": {
        "id": "ovrlSMhri3Eb"
      },
      "outputs": [],
      "source": [
        "clf = MLPRegressor()\n",
        "\n",
        "params = {\n",
        "    \"hidden_layer_sizes\": [(10,), (20,5,),(10,20,10,),(50,25,5),(10,20,10,30,)], \n",
        "    \"activation\" : ['relu','linear']\n",
        "}"
      ]
    },
    {
      "cell_type": "code",
      "execution_count": 12,
      "metadata": {
        "id": "N15NvH4qi3HI",
        "colab": {
          "base_uri": "https://localhost:8080/"
        },
        "outputId": "83de98e2-e384-4434-8aa1-9a6e5803e5d2"
      },
      "outputs": [
        {
          "output_type": "stream",
          "name": "stderr",
          "text": [
            "/usr/local/lib/python3.8/dist-packages/sklearn/neural_network/_multilayer_perceptron.py:692: ConvergenceWarning: Stochastic Optimizer: Maximum iterations (200) reached and the optimization hasn't converged yet.\n",
            "  warnings.warn(\n",
            "/usr/local/lib/python3.8/dist-packages/sklearn/neural_network/_multilayer_perceptron.py:692: ConvergenceWarning: Stochastic Optimizer: Maximum iterations (200) reached and the optimization hasn't converged yet.\n",
            "  warnings.warn(\n",
            "/usr/local/lib/python3.8/dist-packages/sklearn/neural_network/_multilayer_perceptron.py:692: ConvergenceWarning: Stochastic Optimizer: Maximum iterations (200) reached and the optimization hasn't converged yet.\n",
            "  warnings.warn(\n",
            "/usr/local/lib/python3.8/dist-packages/sklearn/neural_network/_multilayer_perceptron.py:692: ConvergenceWarning: Stochastic Optimizer: Maximum iterations (200) reached and the optimization hasn't converged yet.\n",
            "  warnings.warn(\n",
            "/usr/local/lib/python3.8/dist-packages/sklearn/neural_network/_multilayer_perceptron.py:692: ConvergenceWarning: Stochastic Optimizer: Maximum iterations (200) reached and the optimization hasn't converged yet.\n",
            "  warnings.warn(\n",
            "/usr/local/lib/python3.8/dist-packages/sklearn/neural_network/_multilayer_perceptron.py:692: ConvergenceWarning: Stochastic Optimizer: Maximum iterations (200) reached and the optimization hasn't converged yet.\n",
            "  warnings.warn(\n",
            "/usr/local/lib/python3.8/dist-packages/sklearn/neural_network/_multilayer_perceptron.py:692: ConvergenceWarning: Stochastic Optimizer: Maximum iterations (200) reached and the optimization hasn't converged yet.\n",
            "  warnings.warn(\n",
            "/usr/local/lib/python3.8/dist-packages/sklearn/neural_network/_multilayer_perceptron.py:692: ConvergenceWarning: Stochastic Optimizer: Maximum iterations (200) reached and the optimization hasn't converged yet.\n",
            "  warnings.warn(\n",
            "/usr/local/lib/python3.8/dist-packages/sklearn/neural_network/_multilayer_perceptron.py:692: ConvergenceWarning: Stochastic Optimizer: Maximum iterations (200) reached and the optimization hasn't converged yet.\n",
            "  warnings.warn(\n",
            "/usr/local/lib/python3.8/dist-packages/sklearn/neural_network/_multilayer_perceptron.py:692: ConvergenceWarning: Stochastic Optimizer: Maximum iterations (200) reached and the optimization hasn't converged yet.\n",
            "  warnings.warn(\n",
            "/usr/local/lib/python3.8/dist-packages/sklearn/neural_network/_multilayer_perceptron.py:692: ConvergenceWarning: Stochastic Optimizer: Maximum iterations (200) reached and the optimization hasn't converged yet.\n",
            "  warnings.warn(\n",
            "/usr/local/lib/python3.8/dist-packages/sklearn/neural_network/_multilayer_perceptron.py:692: ConvergenceWarning: Stochastic Optimizer: Maximum iterations (200) reached and the optimization hasn't converged yet.\n",
            "  warnings.warn(\n",
            "/usr/local/lib/python3.8/dist-packages/sklearn/neural_network/_multilayer_perceptron.py:692: ConvergenceWarning: Stochastic Optimizer: Maximum iterations (200) reached and the optimization hasn't converged yet.\n",
            "  warnings.warn(\n",
            "/usr/local/lib/python3.8/dist-packages/sklearn/neural_network/_multilayer_perceptron.py:692: ConvergenceWarning: Stochastic Optimizer: Maximum iterations (200) reached and the optimization hasn't converged yet.\n",
            "  warnings.warn(\n",
            "/usr/local/lib/python3.8/dist-packages/sklearn/neural_network/_multilayer_perceptron.py:692: ConvergenceWarning: Stochastic Optimizer: Maximum iterations (200) reached and the optimization hasn't converged yet.\n",
            "  warnings.warn(\n",
            "/usr/local/lib/python3.8/dist-packages/sklearn/neural_network/_multilayer_perceptron.py:692: ConvergenceWarning: Stochastic Optimizer: Maximum iterations (200) reached and the optimization hasn't converged yet.\n",
            "  warnings.warn(\n",
            "/usr/local/lib/python3.8/dist-packages/sklearn/neural_network/_multilayer_perceptron.py:692: ConvergenceWarning: Stochastic Optimizer: Maximum iterations (200) reached and the optimization hasn't converged yet.\n",
            "  warnings.warn(\n",
            "/usr/local/lib/python3.8/dist-packages/sklearn/neural_network/_multilayer_perceptron.py:692: ConvergenceWarning: Stochastic Optimizer: Maximum iterations (200) reached and the optimization hasn't converged yet.\n",
            "  warnings.warn(\n",
            "/usr/local/lib/python3.8/dist-packages/sklearn/neural_network/_multilayer_perceptron.py:692: ConvergenceWarning: Stochastic Optimizer: Maximum iterations (200) reached and the optimization hasn't converged yet.\n",
            "  warnings.warn(\n",
            "/usr/local/lib/python3.8/dist-packages/sklearn/neural_network/_multilayer_perceptron.py:692: ConvergenceWarning: Stochastic Optimizer: Maximum iterations (200) reached and the optimization hasn't converged yet.\n",
            "  warnings.warn(\n",
            "/usr/local/lib/python3.8/dist-packages/sklearn/neural_network/_multilayer_perceptron.py:692: ConvergenceWarning: Stochastic Optimizer: Maximum iterations (200) reached and the optimization hasn't converged yet.\n",
            "  warnings.warn(\n",
            "/usr/local/lib/python3.8/dist-packages/sklearn/neural_network/_multilayer_perceptron.py:692: ConvergenceWarning: Stochastic Optimizer: Maximum iterations (200) reached and the optimization hasn't converged yet.\n",
            "  warnings.warn(\n",
            "/usr/local/lib/python3.8/dist-packages/sklearn/neural_network/_multilayer_perceptron.py:692: ConvergenceWarning: Stochastic Optimizer: Maximum iterations (200) reached and the optimization hasn't converged yet.\n",
            "  warnings.warn(\n",
            "/usr/local/lib/python3.8/dist-packages/sklearn/neural_network/_multilayer_perceptron.py:692: ConvergenceWarning: Stochastic Optimizer: Maximum iterations (200) reached and the optimization hasn't converged yet.\n",
            "  warnings.warn(\n",
            "/usr/local/lib/python3.8/dist-packages/sklearn/neural_network/_multilayer_perceptron.py:692: ConvergenceWarning: Stochastic Optimizer: Maximum iterations (200) reached and the optimization hasn't converged yet.\n",
            "  warnings.warn(\n",
            "/usr/local/lib/python3.8/dist-packages/sklearn/model_selection/_validation.py:372: FitFailedWarning: \n",
            "25 fits failed out of a total of 50.\n",
            "The score on these train-test partitions for these parameters will be set to nan.\n",
            "If these failures are not expected, you can try to debug them by setting error_score='raise'.\n",
            "\n",
            "Below are more details about the failures:\n",
            "--------------------------------------------------------------------------------\n",
            "25 fits failed with the following error:\n",
            "Traceback (most recent call last):\n",
            "  File \"/usr/local/lib/python3.8/dist-packages/sklearn/model_selection/_validation.py\", line 680, in _fit_and_score\n",
            "    estimator.fit(X_train, y_train, **fit_params)\n",
            "  File \"/usr/local/lib/python3.8/dist-packages/sklearn/neural_network/_multilayer_perceptron.py\", line 752, in fit\n",
            "    return self._fit(X, y, incremental=False)\n",
            "  File \"/usr/local/lib/python3.8/dist-packages/sklearn/neural_network/_multilayer_perceptron.py\", line 384, in _fit\n",
            "    self._validate_hyperparameters()\n",
            "  File \"/usr/local/lib/python3.8/dist-packages/sklearn/neural_network/_multilayer_perceptron.py\", line 493, in _validate_hyperparameters\n",
            "    raise ValueError(\n",
            "ValueError: The activation 'linear' is not supported. Supported activations are ['identity', 'logistic', 'relu', 'softmax', 'tanh'].\n",
            "\n",
            "  warnings.warn(some_fits_failed_message, FitFailedWarning)\n",
            "/usr/local/lib/python3.8/dist-packages/sklearn/model_selection/_search.py:969: UserWarning: One or more of the test scores are non-finite: [-1.08707515  0.03961263  0.06138696  0.06169398  0.06004573         nan\n",
            "         nan         nan         nan         nan]\n",
            "  warnings.warn(\n",
            "/usr/local/lib/python3.8/dist-packages/sklearn/neural_network/_multilayer_perceptron.py:692: ConvergenceWarning: Stochastic Optimizer: Maximum iterations (200) reached and the optimization hasn't converged yet.\n",
            "  warnings.warn(\n"
          ]
        },
        {
          "output_type": "execute_result",
          "data": {
            "text/plain": [
              "GridSearchCV(cv=5, estimator=MLPRegressor(),\n",
              "             param_grid={'activation': ['relu', 'linear'],\n",
              "                         'hidden_layer_sizes': [(10,), (20, 5), (10, 20, 10),\n",
              "                                                (50, 25, 5),\n",
              "                                                (10, 20, 10, 30)]})"
            ]
          },
          "metadata": {},
          "execution_count": 12
        }
      ],
      "source": [
        "grid = GridSearchCV(clf, params, cv = 5)\n",
        "grid.fit(X_train, y_train)"
      ]
    },
    {
      "cell_type": "code",
      "execution_count": 13,
      "metadata": {
        "id": "2BNZptA6yzk6",
        "colab": {
          "base_uri": "https://localhost:8080/"
        },
        "outputId": "c8c78f24-d098-472a-f75c-7d64d41b2209"
      },
      "outputs": [
        {
          "output_type": "stream",
          "name": "stdout",
          "text": [
            "{'activation': 'relu', 'hidden_layer_sizes': (50, 25, 5)}\n"
          ]
        }
      ],
      "source": [
        "print(grid.best_params_)"
      ]
    },
    {
      "cell_type": "markdown",
      "metadata": {
        "id": "DKNdxiyOTsOE"
      },
      "source": [
        "# 3.) Train a model with the optimal solution from GridSearch"
      ]
    },
    {
      "cell_type": "code",
      "execution_count": 14,
      "metadata": {
        "id": "tlySuJN1ULTl",
        "colab": {
          "base_uri": "https://localhost:8080/"
        },
        "outputId": "13ef0948-3afb-4bb9-aadc-cb76177ad919"
      },
      "outputs": [
        {
          "output_type": "execute_result",
          "data": {
            "text/plain": [
              "MLPRegressor(hidden_layer_sizes=(50, 25, 5))"
            ]
          },
          "metadata": {},
          "execution_count": 14
        }
      ],
      "source": [
        "MLPRegressor(**grid.best_params_)"
      ]
    },
    {
      "cell_type": "code",
      "execution_count": 15,
      "metadata": {
        "id": "sfbnPTe5Tq_9",
        "colab": {
          "base_uri": "https://localhost:8080/"
        },
        "outputId": "8d0db563-bee0-44fe-8859-4c9d2ec368b6"
      },
      "outputs": [
        {
          "output_type": "stream",
          "name": "stderr",
          "text": [
            "/usr/local/lib/python3.8/dist-packages/sklearn/neural_network/_multilayer_perceptron.py:692: ConvergenceWarning: Stochastic Optimizer: Maximum iterations (1000) reached and the optimization hasn't converged yet.\n",
            "  warnings.warn(\n"
          ]
        },
        {
          "output_type": "execute_result",
          "data": {
            "text/plain": [
              "MLPRegressor(hidden_layer_sizes=(50, 25, 5), max_iter=1000)"
            ]
          },
          "metadata": {},
          "execution_count": 15
        }
      ],
      "source": [
        "regressor = MLPRegressor(hidden_layer_sizes = (50,25,5),activation='relu',solver = 'adam',max_iter=1000) \n",
        "regressor.fit(X_train, y_train)"
      ]
    },
    {
      "cell_type": "code",
      "execution_count": null,
      "metadata": {
        "id": "aHmWKHAUThe9"
      },
      "outputs": [],
      "source": []
    },
    {
      "cell_type": "markdown",
      "metadata": {
        "id": "qTPkbSDwT0nO"
      },
      "source": [
        "# 4.) What are the in-sample and out of sample MSEs"
      ]
    },
    {
      "cell_type": "code",
      "execution_count": 17,
      "metadata": {
        "id": "H6Ux8yX_5_bq"
      },
      "outputs": [],
      "source": [
        "from sklearn.metrics import mean_squared_error, r2_score"
      ]
    },
    {
      "cell_type": "code",
      "execution_count": null,
      "metadata": {
        "id": "2KuP_O-uJFg0",
        "outputId": "f86928cd-5750-49c6-feb7-ba5fb9a1fafc"
      },
      "outputs": [
        {
          "name": "stdout",
          "output_type": "stream",
          "text": [
            "12351989.325225161\n",
            "23120303.897857238\n"
          ]
        }
      ],
      "source": [
        "y_pred_in = regressor.predict(X_train)\n",
        "y_pred = regressor.predict(X_test)\n",
        "\n",
        "in_mse = mean_squared_error(y_train, y_pred_in)\n",
        "out_mse = mean_squared_error(y_test, y_pred)\n",
        "\n",
        "print(in_mse)\n",
        "print(out_mse)"
      ]
    },
    {
      "cell_type": "markdown",
      "metadata": {
        "id": "YVQ1PvBK_ev0"
      },
      "source": [
        "# 5.) Build a Keras with the architecture defined by GridSearchCV"
      ]
    },
    {
      "cell_type": "code",
      "execution_count": null,
      "metadata": {
        "id": "nHI9KXiV5_br",
        "outputId": "8f9c5af8-8301-48ef-bd25-4c153c2dc4f7"
      },
      "outputs": [
        {
          "name": "stdout",
          "output_type": "stream",
          "text": [
            "Collecting keras\n",
            "  Downloading keras-2.11.0-py2.py3-none-any.whl (1.7 MB)\n",
            "\u001b[K     |████████████████████████████████| 1.7 MB 2.8 MB/s eta 0:00:01\n",
            "\u001b[?25hInstalling collected packages: keras\n",
            "Successfully installed keras-2.11.0\n",
            "Note: you may need to restart the kernel to use updated packages.\n"
          ]
        }
      ],
      "source": [
        "pip install keras"
      ]
    },
    {
      "cell_type": "code",
      "execution_count": null,
      "metadata": {
        "id": "tu9oT1YA5_bs",
        "outputId": "b54e5acd-c699-481f-f995-df41724496c3"
      },
      "outputs": [
        {
          "name": "stdout",
          "output_type": "stream",
          "text": [
            "Collecting tensorflow\n",
            "  Downloading tensorflow-2.11.0-cp39-cp39-macosx_10_14_x86_64.whl (244.3 MB)\n",
            "\u001b[K     |████████████████████████████████| 244.3 MB 7.1 MB/s eta 0:00:011    |██████▎                         | 48.0 MB 12.4 MB/s eta 0:00:16     |██████████████▏                 | 107.8 MB 12.9 MB/s eta 0:00:11\n",
            "\u001b[?25hRequirement already satisfied: typing-extensions>=3.6.6 in /Users/korntawatyodkhan/opt/anaconda3/lib/python3.9/site-packages (from tensorflow) (4.1.1)\n",
            "Requirement already satisfied: protobuf<3.20,>=3.9.2 in /Users/korntawatyodkhan/opt/anaconda3/lib/python3.9/site-packages (from tensorflow) (3.19.1)\n",
            "Collecting tensorflow-io-gcs-filesystem>=0.23.1\n",
            "  Downloading tensorflow_io_gcs_filesystem-0.30.0-cp39-cp39-macosx_10_14_x86_64.whl (1.6 MB)\n",
            "\u001b[K     |████████████████████████████████| 1.6 MB 12.9 MB/s eta 0:00:01\n",
            "\u001b[?25hRequirement already satisfied: numpy>=1.20 in /Users/korntawatyodkhan/opt/anaconda3/lib/python3.9/site-packages (from tensorflow) (1.21.5)\n",
            "Collecting flatbuffers>=2.0\n",
            "  Downloading flatbuffers-23.1.21-py2.py3-none-any.whl (26 kB)\n",
            "Collecting termcolor>=1.1.0\n",
            "  Downloading termcolor-2.2.0-py3-none-any.whl (6.6 kB)\n",
            "Collecting google-pasta>=0.1.1\n",
            "  Downloading google_pasta-0.2.0-py3-none-any.whl (57 kB)\n",
            "\u001b[K     |████████████████████████████████| 57 kB 10.5 MB/s eta 0:00:01\n",
            "\u001b[?25hRequirement already satisfied: wrapt>=1.11.0 in /Users/korntawatyodkhan/opt/anaconda3/lib/python3.9/site-packages (from tensorflow) (1.12.1)\n",
            "Collecting gast<=0.4.0,>=0.2.1\n",
            "  Downloading gast-0.4.0-py3-none-any.whl (9.8 kB)\n",
            "Collecting absl-py>=1.0.0\n",
            "  Downloading absl_py-1.4.0-py3-none-any.whl (126 kB)\n",
            "\u001b[K     |████████████████████████████████| 126 kB 10.3 MB/s eta 0:00:01\n",
            "\u001b[?25hCollecting opt-einsum>=2.3.2\n",
            "  Downloading opt_einsum-3.3.0-py3-none-any.whl (65 kB)\n",
            "\u001b[K     |████████████████████████████████| 65 kB 7.5 MB/s eta 0:00:011\n",
            "\u001b[?25hRequirement already satisfied: setuptools in /Users/korntawatyodkhan/opt/anaconda3/lib/python3.9/site-packages (from tensorflow) (61.2.0)\n",
            "Collecting libclang>=13.0.0\n",
            "  Downloading libclang-15.0.6.1-py2.py3-none-macosx_10_9_x86_64.whl (25.0 MB)\n",
            "\u001b[K     |████████████████████████████████| 25.0 MB 527 kB/s  eta 0:00:01\n",
            "\u001b[?25hRequirement already satisfied: h5py>=2.9.0 in /Users/korntawatyodkhan/opt/anaconda3/lib/python3.9/site-packages (from tensorflow) (3.6.0)\n",
            "Requirement already satisfied: keras<2.12,>=2.11.0 in /Users/korntawatyodkhan/opt/anaconda3/lib/python3.9/site-packages (from tensorflow) (2.11.0)\n",
            "Collecting astunparse>=1.6.0\n",
            "  Downloading astunparse-1.6.3-py2.py3-none-any.whl (12 kB)\n",
            "Collecting tensorflow-estimator<2.12,>=2.11.0\n",
            "  Downloading tensorflow_estimator-2.11.0-py2.py3-none-any.whl (439 kB)\n",
            "\u001b[K     |████████████████████████████████| 439 kB 12.4 MB/s eta 0:00:01\n",
            "\u001b[?25hCollecting tensorboard<2.12,>=2.11\n",
            "  Downloading tensorboard-2.11.2-py3-none-any.whl (6.0 MB)\n",
            "\u001b[K     |████████████████████████████████| 6.0 MB 12.3 MB/s eta 0:00:01\n",
            "\u001b[?25hRequirement already satisfied: packaging in /Users/korntawatyodkhan/opt/anaconda3/lib/python3.9/site-packages (from tensorflow) (21.3)\n",
            "Requirement already satisfied: six>=1.12.0 in /Users/korntawatyodkhan/opt/anaconda3/lib/python3.9/site-packages (from tensorflow) (1.16.0)\n",
            "Requirement already satisfied: grpcio<2.0,>=1.24.3 in /Users/korntawatyodkhan/opt/anaconda3/lib/python3.9/site-packages (from tensorflow) (1.42.0)\n",
            "Requirement already satisfied: wheel<1.0,>=0.23.0 in /Users/korntawatyodkhan/opt/anaconda3/lib/python3.9/site-packages (from astunparse>=1.6.0->tensorflow) (0.37.1)\n",
            "Requirement already satisfied: markdown>=2.6.8 in /Users/korntawatyodkhan/opt/anaconda3/lib/python3.9/site-packages (from tensorboard<2.12,>=2.11->tensorflow) (3.2.2)\n",
            "Requirement already satisfied: werkzeug>=1.0.1 in /Users/korntawatyodkhan/opt/anaconda3/lib/python3.9/site-packages (from tensorboard<2.12,>=2.11->tensorflow) (2.0.3)\n",
            "Requirement already satisfied: google-auth<3,>=1.6.3 in /Users/korntawatyodkhan/opt/anaconda3/lib/python3.9/site-packages (from tensorboard<2.12,>=2.11->tensorflow) (1.33.0)\n",
            "Collecting google-auth-oauthlib<0.5,>=0.4.1\n",
            "  Downloading google_auth_oauthlib-0.4.6-py2.py3-none-any.whl (18 kB)\n",
            "Collecting tensorboard-data-server<0.7.0,>=0.6.0\n",
            "  Downloading tensorboard_data_server-0.6.1-py3-none-macosx_10_9_x86_64.whl (3.5 MB)\n",
            "\u001b[K     |████████████████████████████████| 3.5 MB 16.4 MB/s eta 0:00:01\n",
            "\u001b[?25hCollecting tensorboard-plugin-wit>=1.6.0\n",
            "  Downloading tensorboard_plugin_wit-1.8.1-py3-none-any.whl (781 kB)\n",
            "\u001b[K     |████████████████████████████████| 781 kB 20.5 MB/s eta 0:00:01\n",
            "\u001b[?25hRequirement already satisfied: requests<3,>=2.21.0 in /Users/korntawatyodkhan/opt/anaconda3/lib/python3.9/site-packages (from tensorboard<2.12,>=2.11->tensorflow) (2.28.2)\n",
            "Requirement already satisfied: rsa<5,>=3.1.4 in /Users/korntawatyodkhan/opt/anaconda3/lib/python3.9/site-packages (from google-auth<3,>=1.6.3->tensorboard<2.12,>=2.11->tensorflow) (4.7.2)\n",
            "Requirement already satisfied: pyasn1-modules>=0.2.1 in /Users/korntawatyodkhan/opt/anaconda3/lib/python3.9/site-packages (from google-auth<3,>=1.6.3->tensorboard<2.12,>=2.11->tensorflow) (0.2.8)\n",
            "Requirement already satisfied: cachetools<5.0,>=2.0.0 in /Users/korntawatyodkhan/opt/anaconda3/lib/python3.9/site-packages (from google-auth<3,>=1.6.3->tensorboard<2.12,>=2.11->tensorflow) (4.2.2)\n",
            "Collecting requests-oauthlib>=0.7.0\n",
            "  Downloading requests_oauthlib-1.3.1-py2.py3-none-any.whl (23 kB)\n",
            "Requirement already satisfied: pyasn1<0.5.0,>=0.4.6 in /Users/korntawatyodkhan/opt/anaconda3/lib/python3.9/site-packages (from pyasn1-modules>=0.2.1->google-auth<3,>=1.6.3->tensorboard<2.12,>=2.11->tensorflow) (0.4.8)\n",
            "Requirement already satisfied: certifi>=2017.4.17 in /Users/korntawatyodkhan/opt/anaconda3/lib/python3.9/site-packages (from requests<3,>=2.21.0->tensorboard<2.12,>=2.11->tensorflow) (2020.6.20)\n",
            "Requirement already satisfied: urllib3<1.27,>=1.21.1 in /Users/korntawatyodkhan/opt/anaconda3/lib/python3.9/site-packages (from requests<3,>=2.21.0->tensorboard<2.12,>=2.11->tensorflow) (1.25.10)\n",
            "Requirement already satisfied: charset-normalizer<4,>=2 in /Users/korntawatyodkhan/opt/anaconda3/lib/python3.9/site-packages (from requests<3,>=2.21.0->tensorboard<2.12,>=2.11->tensorflow) (2.0.4)\n",
            "Requirement already satisfied: idna<4,>=2.5 in /Users/korntawatyodkhan/opt/anaconda3/lib/python3.9/site-packages (from requests<3,>=2.21.0->tensorboard<2.12,>=2.11->tensorflow) (2.10)\n",
            "Collecting oauthlib>=3.0.0\n",
            "  Downloading oauthlib-3.2.2-py3-none-any.whl (151 kB)\n",
            "\u001b[K     |████████████████████████████████| 151 kB 34.2 MB/s eta 0:00:01\n",
            "\u001b[?25hRequirement already satisfied: pyparsing!=3.0.5,>=2.0.2 in /Users/korntawatyodkhan/opt/anaconda3/lib/python3.9/site-packages (from packaging->tensorflow) (3.0.4)\n",
            "Installing collected packages: oauthlib, requests-oauthlib, tensorboard-plugin-wit, tensorboard-data-server, google-auth-oauthlib, absl-py, termcolor, tensorflow-io-gcs-filesystem, tensorflow-estimator, tensorboard, opt-einsum, libclang, google-pasta, gast, flatbuffers, astunparse, tensorflow\n",
            "Successfully installed absl-py-1.4.0 astunparse-1.6.3 flatbuffers-23.1.21 gast-0.4.0 google-auth-oauthlib-0.4.6 google-pasta-0.2.0 libclang-15.0.6.1 oauthlib-3.2.2 opt-einsum-3.3.0 requests-oauthlib-1.3.1 tensorboard-2.11.2 tensorboard-data-server-0.6.1 tensorboard-plugin-wit-1.8.1 tensorflow-2.11.0 tensorflow-estimator-2.11.0 tensorflow-io-gcs-filesystem-0.30.0 termcolor-2.2.0\n",
            "Note: you may need to restart the kernel to use updated packages.\n"
          ]
        }
      ],
      "source": [
        "pip install tensorflow"
      ]
    },
    {
      "cell_type": "code",
      "execution_count": 18,
      "metadata": {
        "id": "dzqvY-1Vfd3v"
      },
      "outputs": [],
      "source": [
        "import keras.models\n",
        "from keras.optimizers import Adam\n",
        "from keras.models import Sequential\n",
        "from keras.layers import Dense"
      ]
    },
    {
      "cell_type": "code",
      "execution_count": 35,
      "metadata": {
        "id": "REnA8g8VOexH"
      },
      "outputs": [],
      "source": [
        "model = Sequential()\n",
        "model.add(Dense(50, input_dim=X_train.shape[1], activation='relu'))\n",
        "model.add(Dense(25, activation='relu'))\n",
        "model.add(Dense(5, activation = 'relu'))\n",
        "model.add(Dense(1, activation = 'relu'))"
      ]
    },
    {
      "cell_type": "code",
      "execution_count": 36,
      "metadata": {
        "id": "cIru4hD8Oezl",
        "colab": {
          "base_uri": "https://localhost:8080/"
        },
        "outputId": "1f0a87de-8567-4d91-9c25-7ec90b5c8e7f"
      },
      "outputs": [
        {
          "output_type": "stream",
          "name": "stdout",
          "text": [
            "Epoch 1/100\n"
          ]
        },
        {
          "output_type": "stream",
          "name": "stderr",
          "text": [
            "/usr/local/lib/python3.8/dist-packages/keras/optimizers/optimizer_v2/adam.py:117: UserWarning: The `lr` argument is deprecated, use `learning_rate` instead.\n",
            "  super().__init__(name, **kwargs)\n"
          ]
        },
        {
          "output_type": "stream",
          "name": "stdout",
          "text": [
            "200/200 [==============================] - 1s 2ms/step - loss: 69627312.0000\n",
            "Epoch 2/100\n",
            "200/200 [==============================] - 1s 4ms/step - loss: 45452416.0000\n",
            "Epoch 3/100\n",
            "200/200 [==============================] - 1s 3ms/step - loss: 45057196.0000\n",
            "Epoch 4/100\n",
            "200/200 [==============================] - 0s 2ms/step - loss: 44953932.0000\n",
            "Epoch 5/100\n",
            "200/200 [==============================] - 0s 2ms/step - loss: 44788588.0000\n",
            "Epoch 6/100\n",
            "200/200 [==============================] - 0s 2ms/step - loss: 44825244.0000\n",
            "Epoch 7/100\n",
            "200/200 [==============================] - 0s 2ms/step - loss: 44658084.0000\n",
            "Epoch 8/100\n",
            "200/200 [==============================] - 0s 2ms/step - loss: 44653152.0000\n",
            "Epoch 9/100\n",
            "200/200 [==============================] - 0s 2ms/step - loss: 44580188.0000\n",
            "Epoch 10/100\n",
            "200/200 [==============================] - 0s 2ms/step - loss: 44662644.0000\n",
            "Epoch 11/100\n",
            "200/200 [==============================] - 0s 2ms/step - loss: 44452640.0000\n",
            "Epoch 12/100\n",
            "200/200 [==============================] - 1s 3ms/step - loss: 44585384.0000\n",
            "Epoch 13/100\n",
            "200/200 [==============================] - 1s 4ms/step - loss: 44441580.0000\n",
            "Epoch 14/100\n",
            "200/200 [==============================] - 1s 4ms/step - loss: 44430860.0000\n",
            "Epoch 15/100\n",
            "200/200 [==============================] - 1s 4ms/step - loss: 44268472.0000\n",
            "Epoch 16/100\n",
            "200/200 [==============================] - 1s 4ms/step - loss: 44230400.0000\n",
            "Epoch 17/100\n",
            "200/200 [==============================] - 1s 4ms/step - loss: 44329180.0000\n",
            "Epoch 18/100\n",
            "200/200 [==============================] - 1s 4ms/step - loss: 44306156.0000\n",
            "Epoch 19/100\n",
            "200/200 [==============================] - 0s 2ms/step - loss: 44291496.0000\n",
            "Epoch 20/100\n",
            "200/200 [==============================] - 0s 2ms/step - loss: 44293636.0000\n",
            "Epoch 21/100\n",
            "200/200 [==============================] - 0s 2ms/step - loss: 44149608.0000\n",
            "Epoch 22/100\n",
            "200/200 [==============================] - 0s 2ms/step - loss: 44226812.0000\n",
            "Epoch 23/100\n",
            "200/200 [==============================] - 0s 2ms/step - loss: 44180984.0000\n",
            "Epoch 24/100\n",
            "200/200 [==============================] - 0s 2ms/step - loss: 44198588.0000\n",
            "Epoch 25/100\n",
            "200/200 [==============================] - 0s 2ms/step - loss: 44360848.0000\n",
            "Epoch 26/100\n",
            "200/200 [==============================] - 0s 2ms/step - loss: 44134956.0000\n",
            "Epoch 27/100\n",
            "200/200 [==============================] - 0s 2ms/step - loss: 44178356.0000\n",
            "Epoch 28/100\n",
            "200/200 [==============================] - 0s 2ms/step - loss: 44097508.0000\n",
            "Epoch 29/100\n",
            "200/200 [==============================] - 0s 2ms/step - loss: 44015924.0000\n",
            "Epoch 30/100\n",
            "200/200 [==============================] - 0s 2ms/step - loss: 44084756.0000\n",
            "Epoch 31/100\n",
            "200/200 [==============================] - 0s 2ms/step - loss: 44067152.0000\n",
            "Epoch 32/100\n",
            "200/200 [==============================] - 0s 2ms/step - loss: 44061412.0000\n",
            "Epoch 33/100\n",
            "200/200 [==============================] - 0s 2ms/step - loss: 44018036.0000\n",
            "Epoch 34/100\n",
            "200/200 [==============================] - 0s 2ms/step - loss: 43947004.0000\n",
            "Epoch 35/100\n",
            "200/200 [==============================] - 0s 2ms/step - loss: 43937808.0000\n",
            "Epoch 36/100\n",
            "200/200 [==============================] - 0s 2ms/step - loss: 43935956.0000\n",
            "Epoch 37/100\n",
            "200/200 [==============================] - 0s 2ms/step - loss: 43999428.0000\n",
            "Epoch 38/100\n",
            "200/200 [==============================] - 0s 2ms/step - loss: 44041724.0000\n",
            "Epoch 39/100\n",
            "200/200 [==============================] - 1s 3ms/step - loss: 43869564.0000\n",
            "Epoch 40/100\n",
            "200/200 [==============================] - 2s 9ms/step - loss: 44042984.0000\n",
            "Epoch 41/100\n",
            "200/200 [==============================] - 1s 5ms/step - loss: 43875072.0000\n",
            "Epoch 42/100\n",
            "200/200 [==============================] - 1s 4ms/step - loss: 43855276.0000\n",
            "Epoch 43/100\n",
            "200/200 [==============================] - 1s 4ms/step - loss: 43776888.0000\n",
            "Epoch 44/100\n",
            "200/200 [==============================] - 1s 4ms/step - loss: 43729076.0000\n",
            "Epoch 45/100\n",
            "200/200 [==============================] - 0s 2ms/step - loss: 43868240.0000\n",
            "Epoch 46/100\n",
            "200/200 [==============================] - 0s 2ms/step - loss: 43362136.0000\n",
            "Epoch 47/100\n",
            "200/200 [==============================] - 0s 2ms/step - loss: 41992264.0000\n",
            "Epoch 48/100\n",
            "200/200 [==============================] - 1s 3ms/step - loss: 40344520.0000\n",
            "Epoch 49/100\n",
            "200/200 [==============================] - 0s 2ms/step - loss: 38480212.0000\n",
            "Epoch 50/100\n",
            "200/200 [==============================] - 0s 2ms/step - loss: 36306124.0000\n",
            "Epoch 51/100\n",
            "200/200 [==============================] - 0s 2ms/step - loss: 33777944.0000\n",
            "Epoch 52/100\n",
            "200/200 [==============================] - 0s 2ms/step - loss: 30688372.0000\n",
            "Epoch 53/100\n",
            "200/200 [==============================] - 0s 2ms/step - loss: 27027276.0000\n",
            "Epoch 54/100\n",
            "200/200 [==============================] - 1s 3ms/step - loss: 24594254.0000\n",
            "Epoch 55/100\n",
            "200/200 [==============================] - 0s 2ms/step - loss: 23131304.0000\n",
            "Epoch 56/100\n",
            "200/200 [==============================] - 1s 3ms/step - loss: 22423714.0000\n",
            "Epoch 57/100\n",
            "200/200 [==============================] - 0s 2ms/step - loss: 22128016.0000\n",
            "Epoch 58/100\n",
            "200/200 [==============================] - 0s 2ms/step - loss: 21691472.0000\n",
            "Epoch 59/100\n",
            "200/200 [==============================] - 0s 2ms/step - loss: 21288678.0000\n",
            "Epoch 60/100\n",
            "200/200 [==============================] - 0s 2ms/step - loss: 20978180.0000\n",
            "Epoch 61/100\n",
            "200/200 [==============================] - 0s 2ms/step - loss: 20728126.0000\n",
            "Epoch 62/100\n",
            "200/200 [==============================] - 0s 2ms/step - loss: 20584268.0000\n",
            "Epoch 63/100\n",
            "200/200 [==============================] - 0s 2ms/step - loss: 20588694.0000\n",
            "Epoch 64/100\n",
            "200/200 [==============================] - 0s 2ms/step - loss: 20464822.0000\n",
            "Epoch 65/100\n",
            "200/200 [==============================] - 1s 3ms/step - loss: 20487472.0000\n",
            "Epoch 66/100\n",
            "200/200 [==============================] - 1s 4ms/step - loss: 20077906.0000\n",
            "Epoch 67/100\n",
            "200/200 [==============================] - 1s 4ms/step - loss: 20006060.0000\n",
            "Epoch 68/100\n",
            "200/200 [==============================] - 1s 4ms/step - loss: 19899942.0000\n",
            "Epoch 69/100\n",
            "200/200 [==============================] - 1s 4ms/step - loss: 20074512.0000\n",
            "Epoch 70/100\n",
            "200/200 [==============================] - 1s 4ms/step - loss: 19686902.0000\n",
            "Epoch 71/100\n",
            "200/200 [==============================] - 1s 3ms/step - loss: 19610134.0000\n",
            "Epoch 72/100\n",
            "200/200 [==============================] - 0s 2ms/step - loss: 19509760.0000\n",
            "Epoch 73/100\n",
            "200/200 [==============================] - 0s 2ms/step - loss: 19431348.0000\n",
            "Epoch 74/100\n",
            "200/200 [==============================] - 0s 2ms/step - loss: 19409464.0000\n",
            "Epoch 75/100\n",
            "200/200 [==============================] - 0s 2ms/step - loss: 19440726.0000\n",
            "Epoch 76/100\n",
            "200/200 [==============================] - 0s 2ms/step - loss: 19291548.0000\n",
            "Epoch 77/100\n",
            "200/200 [==============================] - 0s 2ms/step - loss: 19198098.0000\n",
            "Epoch 78/100\n",
            "200/200 [==============================] - 0s 2ms/step - loss: 19163700.0000\n",
            "Epoch 79/100\n",
            "200/200 [==============================] - 0s 2ms/step - loss: 19107600.0000\n",
            "Epoch 80/100\n",
            "200/200 [==============================] - 0s 2ms/step - loss: 18852884.0000\n",
            "Epoch 81/100\n",
            "200/200 [==============================] - 0s 2ms/step - loss: 19001958.0000\n",
            "Epoch 82/100\n",
            "200/200 [==============================] - 0s 2ms/step - loss: 19030192.0000\n",
            "Epoch 83/100\n",
            "200/200 [==============================] - 0s 2ms/step - loss: 18938356.0000\n",
            "Epoch 84/100\n",
            "200/200 [==============================] - 0s 2ms/step - loss: 18796638.0000\n",
            "Epoch 85/100\n",
            "200/200 [==============================] - 1s 3ms/step - loss: 18985900.0000\n",
            "Epoch 86/100\n",
            "200/200 [==============================] - 1s 3ms/step - loss: 18615134.0000\n",
            "Epoch 87/100\n",
            "200/200 [==============================] - 1s 4ms/step - loss: 18587706.0000\n",
            "Epoch 88/100\n",
            "200/200 [==============================] - 1s 4ms/step - loss: 18829070.0000\n",
            "Epoch 89/100\n",
            "200/200 [==============================] - 1s 4ms/step - loss: 18526550.0000\n",
            "Epoch 90/100\n",
            "200/200 [==============================] - 1s 4ms/step - loss: 18573240.0000\n",
            "Epoch 91/100\n",
            "200/200 [==============================] - 1s 4ms/step - loss: 18732786.0000\n",
            "Epoch 92/100\n",
            "200/200 [==============================] - 1s 4ms/step - loss: 18491486.0000\n",
            "Epoch 93/100\n",
            "200/200 [==============================] - 1s 4ms/step - loss: 18358726.0000\n",
            "Epoch 94/100\n",
            "200/200 [==============================] - 1s 4ms/step - loss: 18598036.0000\n",
            "Epoch 95/100\n",
            "200/200 [==============================] - 1s 6ms/step - loss: 18534296.0000\n",
            "Epoch 96/100\n",
            "200/200 [==============================] - 2s 8ms/step - loss: 18462508.0000\n",
            "Epoch 97/100\n",
            "200/200 [==============================] - 0s 2ms/step - loss: 18394688.0000\n",
            "Epoch 98/100\n",
            "200/200 [==============================] - 0s 2ms/step - loss: 18172632.0000\n",
            "Epoch 99/100\n",
            "200/200 [==============================] - 0s 2ms/step - loss: 18527600.0000\n",
            "Epoch 100/100\n",
            "200/200 [==============================] - 0s 2ms/step - loss: 18256428.0000\n"
          ]
        },
        {
          "output_type": "execute_result",
          "data": {
            "text/plain": [
              "<keras.callbacks.History at 0x7fb7b72670d0>"
            ]
          },
          "metadata": {},
          "execution_count": 36
        }
      ],
      "source": [
        "model.compile(loss='mse', optimizer=Adam(lr=0.01))\n",
        "model.fit(X_train, y_train, batch_size=32, epochs=100)"
      ]
    },
    {
      "cell_type": "markdown",
      "metadata": {
        "id": "NirfWMLxOe-P"
      },
      "source": [
        "# 6.) Make two visualizations of your NN using “plot_model” and “ann_viz”"
      ]
    },
    {
      "cell_type": "code",
      "execution_count": 37,
      "metadata": {
        "id": "pF_gjYFTOiL0",
        "colab": {
          "base_uri": "https://localhost:8080/"
        },
        "outputId": "4136cff9-1fae-4ff2-a82b-2b2b300a9997"
      },
      "outputs": [
        {
          "output_type": "stream",
          "name": "stdout",
          "text": [
            "Model: \"sequential_2\"\n",
            "_________________________________________________________________\n",
            " Layer (type)                Output Shape              Param #   \n",
            "=================================================================\n",
            " dense_5 (Dense)             (None, 50)                850       \n",
            "                                                                 \n",
            " dense_6 (Dense)             (None, 25)                1275      \n",
            "                                                                 \n",
            " dense_7 (Dense)             (None, 5)                 130       \n",
            "                                                                 \n",
            " dense_8 (Dense)             (None, 1)                 6         \n",
            "                                                                 \n",
            "=================================================================\n",
            "Total params: 2,261\n",
            "Trainable params: 2,261\n",
            "Non-trainable params: 0\n",
            "_________________________________________________________________\n"
          ]
        }
      ],
      "source": [
        "model.summary()"
      ]
    },
    {
      "cell_type": "code",
      "execution_count": 38,
      "metadata": {
        "id": "yET3XQYSOiq_",
        "colab": {
          "base_uri": "https://localhost:8080/",
          "height": 533
        },
        "outputId": "131231dc-7e25-41d7-a5ad-544633d8be23"
      },
      "outputs": [
        {
          "output_type": "execute_result",
          "data": {
            "image/png": "[encoded data removed]",
            "text/plain": [
              "<IPython.core.display.Image object>"
            ]
          },
          "metadata": {},
          "execution_count": 38
        }
      ],
      "source": [
        "from tensorflow.keras.utils import plot_model\n",
        "plot_model(model, show_shapes = True)"
      ]
    },
    {
      "cell_type": "code",
      "execution_count": 39,
      "metadata": {
        "id": "EkAI6lrlOiti",
        "colab": {
          "base_uri": "https://localhost:8080/"
        },
        "outputId": "fe4bb129-6f86-488a-849f-18b71f8fbc39"
      },
      "outputs": [
        {
          "output_type": "stream",
          "name": "stdout",
          "text": [
            "Looking in indexes: https://pypi.org/simple, https://us-python.pkg.dev/colab-wheels/public/simple/\n",
            "Requirement already satisfied: ann_visualizer in /usr/local/lib/python3.8/dist-packages (2.5)\n"
          ]
        }
      ],
      "source": [
        "pip install ann_visualizer"
      ]
    },
    {
      "cell_type": "code",
      "source": [
        "from ann_visualizer.visualize import ann_viz"
      ],
      "metadata": {
        "id": "xlpyMuGxFe3V"
      },
      "execution_count": 40,
      "outputs": []
    },
    {
      "cell_type": "code",
      "execution_count": 41,
      "metadata": {
        "id": "VtFLNv7iOiwq"
      },
      "outputs": [],
      "source": [
        "visualize = ann_viz(model, title = \"CLV NN Viz\", filename= '/content/gdrive/MyDrive/Econ441B/nn_model.gz')"
      ]
    }
  ],
  "metadata": {
    "colab": {
      "provenance": []
    },
    "kernelspec": {
      "display_name": "Python 3 (ipykernel)",
      "language": "python",
      "name": "python3"
    },
    "language_info": {
      "codemirror_mode": {
        "name": "ipython",
        "version": 3
      },
      "file_extension": ".py",
      "mimetype": "text/x-python",
      "name": "python",
      "nbconvert_exporter": "python",
      "pygments_lexer": "ipython3",
      "version": "3.9.12"
    }
  },
  "nbformat": 4,
  "nbformat_minor": 0
}